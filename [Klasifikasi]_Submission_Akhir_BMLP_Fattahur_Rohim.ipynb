{
 "cells": [
  {
   "cell_type": "markdown",
   "metadata": {
    "id": "fKADPWcFKlj3"
   },
   "source": [
    "# **1. Import Library**"
   ]
  },
  {
   "cell_type": "markdown",
   "metadata": {
    "id": "LgA3ERnVn84N"
   },
   "source": [
    "Pada tahap ini, Anda perlu mengimpor beberapa pustaka (library) Python yang dibutuhkan untuk analisis data dan pembangunan model machine learning."
   ]
  },
  {
   "cell_type": "code",
   "execution_count": 9,
   "metadata": {
    "id": "BlmvjLY9M4Yj"
   },
   "outputs": [],
   "source": [
    "import pandas as pd\n",
    "from sklearn.model_selection import train_test_split, GridSearchCV\n",
    "from sklearn.ensemble import RandomForestClassifier\n",
    "from sklearn.metrics import accuracy_score, precision_score, recall_score, confusion_matrix, f1_score\n",
    "from sklearn.linear_model import LogisticRegression\n",
    "from sklearn.preprocessing import LabelEncoder\n",
    "import seaborn as sns\n",
    "import matplotlib.pyplot as plt"
   ]
  },
  {
   "cell_type": "markdown",
   "metadata": {
    "id": "f3YIEnAFKrKL"
   },
   "source": [
    "# **2. Memuat Dataset dari Hasil Clustering**"
   ]
  },
  {
   "cell_type": "markdown",
   "metadata": {
    "id": "Ey3ItwTen_7E"
   },
   "source": [
    "Memuat dataset hasil clustering dari file CSV ke dalam variabel DataFrame."
   ]
  },
  {
   "cell_type": "code",
   "execution_count": 2,
   "metadata": {
    "id": "GHCGNTyrM5fS"
   },
   "outputs": [
    {
     "name": "stdout",
     "output_type": "stream",
     "text": [
      "<class 'pandas.core.frame.DataFrame'>\n",
      "RangeIndex: 1016 entries, 0 to 1015\n",
      "Data columns (total 17 columns):\n",
      " #   Column                         Non-Null Count  Dtype  \n",
      "---  ------                         --------------  -----  \n",
      " 0   Date                           1016 non-null   int64  \n",
      " 1   Open                           1016 non-null   float64\n",
      " 2   High                           1016 non-null   float64\n",
      " 3   Low                            1016 non-null   float64\n",
      " 4   Close                          1016 non-null   float64\n",
      " 5   Change                         1016 non-null   int64  \n",
      " 6   Change(%)                      1016 non-null   float64\n",
      " 7   Ratio(%)                       1016 non-null   float64\n",
      " 8   Volume                         1016 non-null   int64  \n",
      " 9   Value(T)                       1016 non-null   int64  \n",
      " 10  Interval_High_Open             1016 non-null   float64\n",
      " 11  Interval_Open_From_LastDay     1016 non-null   float64\n",
      " 12  Interval_Open_From_LastDay(%)  1016 non-null   int64  \n",
      " 13  Cluster                        1016 non-null   int64  \n",
      " 14  Cluster_Selected               1016 non-null   int64  \n",
      " 15  PCA1                           1016 non-null   float64\n",
      " 16  PCA2                           1016 non-null   float64\n",
      "dtypes: float64(10), int64(7)\n",
      "memory usage: 135.1 KB\n"
     ]
    }
   ],
   "source": [
    "data = pd.read_csv(\"dataset_inisiasi.csv\")\n",
    "data.info()"
   ]
  },
  {
   "cell_type": "markdown",
   "metadata": {
    "id": "KkPem5eWL2UP"
   },
   "source": [
    "# **3. Data Splitting**"
   ]
  },
  {
   "cell_type": "markdown",
   "metadata": {
    "id": "YYj1rl_JNI9Y"
   },
   "source": [
    "Tahap Data Splitting bertujuan untuk memisahkan dataset menjadi dua bagian: data latih (training set) dan data uji (test set)."
   ]
  },
  {
   "cell_type": "code",
   "execution_count": 3,
   "metadata": {
    "id": "OubAW-7ONKVj"
   },
   "outputs": [
    {
     "name": "stdout",
     "output_type": "stream",
     "text": [
      "Jumlah data latih: 812\n",
      "Jumlah data uji: 204\n"
     ]
    }
   ],
   "source": [
    "# Memisahkan data menjadi fitur (X) dan target (y) jika ada kolom target\n",
    "y = data.iloc[:, -1]  # Asumsikan kolom terakhir adalah target\n",
    "X = data.iloc[:, :-1]\n",
    "\n",
    "# Mengubah target menjadi kategori jika berupa nilai kontinu\n",
    "if y.dtype == 'float64' or y.dtype == 'int64':\n",
    "    y = pd.cut(y, bins=3, labels=[\"Low\", \"Medium\", \"High\"])\n",
    "\n",
    "# Melakukan encoding jika target berbentuk kategori\n",
    "le = LabelEncoder()\n",
    "y = le.fit_transform(y)\n",
    "\n",
    "# Membagi data menjadi data latih (80%) dan data uji (20%)\n",
    "X_train, X_test, y_train, y_test = train_test_split(X, y, test_size=0.2, random_state=42)\n",
    "\n",
    "# Menampilkan ukuran hasil splitting\n",
    "print(f\"Jumlah data latih: {X_train.shape[0]}\")\n",
    "print(f\"Jumlah data uji: {X_test.shape[0]}\")\n"
   ]
  },
  {
   "cell_type": "markdown",
   "metadata": {
    "id": "IVPbB03CMhTT"
   },
   "source": [
    "# **4. Membangun Model Klasifikasi**\n"
   ]
  },
  {
   "cell_type": "markdown",
   "metadata": {
    "id": "Ned1pL9zMmBK"
   },
   "source": [
    "## **a. Membangun Model Klasifikasi**"
   ]
  },
  {
   "cell_type": "markdown",
   "metadata": {
    "id": "WAWzPOE4Nkti"
   },
   "source": [
    "Setelah memilih algoritma klasifikasi yang sesuai, langkah selanjutnya adalah melatih model menggunakan data latih.\n",
    "\n",
    "Berikut adalah rekomendasi tahapannya.\n",
    "1. Pilih algoritma klasifikasi yang sesuai, seperti Logistic Regression, Decision Tree, Random Forest, atau K-Nearest Neighbors (KNN).\n",
    "2. Latih model menggunakan data latih."
   ]
  },
  {
   "cell_type": "code",
   "execution_count": 4,
   "metadata": {
    "id": "4JYxBe87NLDk"
   },
   "outputs": [
    {
     "name": "stdout",
     "output_type": "stream",
     "text": [
      "Akurasi model: 1.00\n"
     ]
    }
   ],
   "source": [
    "# Membangun Model Klasifikasi dengan Random Forest\n",
    "clf = RandomForestClassifier(n_estimators=100, random_state=42)\n",
    "\n",
    "# Melatih model\n",
    "clf.fit(X_train, y_train)\n",
    "\n",
    "# Memprediksi data uji\n",
    "y_pred_rf = clf.predict(X_test)\n",
    "\n",
    "# Mengukur akurasi model\n",
    "accuracy = accuracy_score(y_test, y_pred_rf)\n",
    "print(f\"Akurasi model: {accuracy:.2f}\")\n"
   ]
  },
  {
   "cell_type": "markdown",
   "metadata": {
    "id": "seYoHNY3XU1y"
   },
   "source": [
    "Penjelasan Algoritma:\n",
    "Random Forest adalah algoritma klasifikasi berbasis ensemble yang terdiri dari banyak pohon keputusan.\n",
    "Jika target berupa nilai kontinu, kita perlu mengubahnya menjadi kategori terlebih dahulu,\n",
    "misalnya dengan membagi nilai menjadi beberapa kelas seperti \"Low\", \"Medium\", dan \"High\".\n",
    "\n",
    "Keunggulan Random Forest:\n",
    "1. Dapat menangani data dengan dimensi tinggi.\n",
    "2. Tidak rentan terhadap overfitting dibandingkan Decision Tree tunggal.\n",
    "3. Mampu menangani missing values dan data yang tidak terdistribusi normal."
   ]
  },
  {
   "cell_type": "markdown",
   "metadata": {
    "id": "ergzChZFEL-O"
   },
   "source": [
    "## **b. Evaluasi Model Klasifikasi**"
   ]
  },
  {
   "cell_type": "markdown",
   "metadata": {
    "id": "zOm68u-7NpLT"
   },
   "source": [
    "Berikut adalah **rekomendasi** tahapannya.\n",
    "1. Lakukan prediksi menggunakan data uji.\n",
    "2. Hitung metrik evaluasi seperti Accuracy dan F1-Score (Opsional: Precision dan Recall).\n",
    "3. Buat confusion matrix untuk melihat detail prediksi benar dan salah."
   ]
  },
  {
   "cell_type": "code",
   "execution_count": 5,
   "metadata": {
    "id": "tMq4QAssNLip"
   },
   "outputs": [
    {
     "name": "stdout",
     "output_type": "stream",
     "text": [
      "Evaluasi Model Random Forest:\n",
      "Akurasi: 1.00\n",
      "F1-Score: 1.00\n",
      "Precision: 1.00\n",
      "Recall: 1.00\n",
      "\n",
      "Evaluasi Model Logistic Regression:\n",
      "Akurasi: 0.95\n",
      "F1-Score: 0.94\n",
      "Precision: 0.95\n",
      "Recall: 0.95\n"
     ]
    },
    {
     "name": "stderr",
     "output_type": "stream",
     "text": [
      "C:\\Users\\fatta\\AppData\\Local\\Programs\\Python\\Python313\\Lib\\site-packages\\sklearn\\linear_model\\_logistic.py:465: ConvergenceWarning: lbfgs failed to converge (status=1):\n",
      "STOP: TOTAL NO. OF ITERATIONS REACHED LIMIT.\n",
      "\n",
      "Increase the number of iterations (max_iter) or scale the data as shown in:\n",
      "    https://scikit-learn.org/stable/modules/preprocessing.html\n",
      "Please also refer to the documentation for alternative solver options:\n",
      "    https://scikit-learn.org/stable/modules/linear_model.html#logistic-regression\n",
      "  n_iter_i = _check_optimize_result(\n"
     ]
    },
    {
     "data": {
      "image/png": "[encoded data removed]",
      "text/plain": [
       "<Figure size 600x400 with 2 Axes>"
      ]
     },
     "metadata": {},
     "output_type": "display_data"
    },
    {
     "data": {
      "image/png": "[encoded data removed]",
      "text/plain": [
       "<Figure size 600x400 with 2 Axes>"
      ]
     },
     "metadata": {},
     "output_type": "display_data"
    }
   ],
   "source": [
    "# Membangun Model Klasifikasi dengan Logistic Regression\n",
    "clf_lr = LogisticRegression(max_iter=200)\n",
    "clf_lr.fit(X_train, y_train)\n",
    "y_pred_lr = clf_lr.predict(X_test)\n",
    "\n",
    "# Mengukur metrik evaluasi untuk Random Forest\n",
    "accuracy_rf = accuracy_score(y_test, y_pred_rf)\n",
    "f1_rf = f1_score(y_test, y_pred_rf, average='weighted')\n",
    "precision_rf = precision_score(y_test, y_pred_rf, average='weighted')\n",
    "recall_rf = recall_score(y_test, y_pred_rf, average='weighted')\n",
    "\n",
    "# Mengukur metrik evaluasi untuk Logistic Regression\n",
    "accuracy_lr = accuracy_score(y_test, y_pred_lr)\n",
    "f1_lr = f1_score(y_test, y_pred_lr, average='weighted')\n",
    "precision_lr = precision_score(y_test, y_pred_lr, average='weighted')\n",
    "recall_lr = recall_score(y_test, y_pred_lr, average='weighted')\n",
    "\n",
    "# Menampilkan hasil evaluasi\n",
    "print(\"Evaluasi Model Random Forest:\")\n",
    "print(f\"Akurasi: {accuracy_rf:.2f}\")\n",
    "print(f\"F1-Score: {f1_rf:.2f}\")\n",
    "print(f\"Precision: {precision_rf:.2f}\")\n",
    "print(f\"Recall: {recall_rf:.2f}\")\n",
    "\n",
    "print(\"\\nEvaluasi Model Logistic Regression:\")\n",
    "print(f\"Akurasi: {accuracy_lr:.2f}\")\n",
    "print(f\"F1-Score: {f1_lr:.2f}\")\n",
    "print(f\"Precision: {precision_lr:.2f}\")\n",
    "print(f\"Recall: {recall_lr:.2f}\")\n",
    "\n",
    "# Membuat confusion matrix untuk Random Forest\n",
    "cm_rf = confusion_matrix(y_test, y_pred_rf)\n",
    "plt.figure(figsize=(6, 4))\n",
    "sns.heatmap(cm_rf, annot=True, fmt='d', cmap='Blues', xticklabels=le.classes_, yticklabels=le.classes_)\n",
    "plt.xlabel(\"Predicted\")\n",
    "plt.ylabel(\"Actual\")\n",
    "plt.title(\"Confusion Matrix - Random Forest\")\n",
    "plt.show()\n",
    "\n",
    "# Membuat confusion matrix untuk Logistic Regression\n",
    "cm_lr = confusion_matrix(y_test, y_pred_lr)\n",
    "plt.figure(figsize=(6, 4))\n",
    "sns.heatmap(cm_lr, annot=True, fmt='d', cmap='Greens', xticklabels=le.classes_, yticklabels=le.classes_)\n",
    "plt.xlabel(\"Predicted\")\n",
    "plt.ylabel(\"Actual\")\n",
    "plt.title(\"Confusion Matrix - Logistic Regression\")\n",
    "plt.show()\n"
   ]
  },
  {
   "cell_type": "markdown",
   "metadata": {
    "id": "H4_9OwrsXZlz"
   },
   "source": [
    "Perbandingan Algoritma:\n",
    "1. Random Forest cenderung memiliki akurasi lebih tinggi karena bekerja dengan banyak pohon keputusan yang meningkatkan ketahanan terhadap overfitting.\n",
    "2. Logistic Regression lebih sederhana dan lebih cepat dalam eksekusi, tetapi mungkin kurang akurat jika data memiliki hubungan yang kompleks.\n",
    "3. Dari hasil evaluasi, Random Forest mungkin lebih unggul dalam menangani kompleksitas data dan menangkap pola yang lebih baik dibandingkan Logistic Regression.\n",
    "4. Namun, jika model lebih mengutamakan interpretasi dan kecepatan prediksi, Logistic Regression bisa menjadi pilihan yang lebih baik."
   ]
  },
  {
   "cell_type": "markdown",
   "metadata": {
    "id": "ph9yIYDXEPuB"
   },
   "source": [
    "## **c. Tuning Model Klasifikasi (Optional)**"
   ]
  },
  {
   "cell_type": "markdown",
   "metadata": {
    "id": "-Bikx3LINv5e"
   },
   "source": [
    "Gunakan GridSearchCV, RandomizedSearchCV, atau metode lainnya untuk mencari kombinasi hyperparameter terbaik"
   ]
  },
  {
   "cell_type": "code",
   "execution_count": null,
   "metadata": {
    "id": "winbFzb8NL95"
   },
   "outputs": [],
   "source": []
  },
  {
   "cell_type": "markdown",
   "metadata": {
    "id": "hE7pqlEPEYzI"
   },
   "source": [
    "## **d. Evaluasi Model Klasifikasi setelah Tuning (Optional)**"
   ]
  },
  {
   "cell_type": "markdown",
   "metadata": {
    "id": "feaPESoeN0zz"
   },
   "source": [
    "Berikut adalah rekomendasi tahapannya.\n",
    "1. Gunakan model dengan hyperparameter terbaik.\n",
    "2. Hitung ulang metrik evaluasi untuk melihat apakah ada peningkatan performa."
   ]
  },
  {
   "cell_type": "code",
   "execution_count": 7,
   "metadata": {
    "id": "HTXZRvEeNMb1"
   },
   "outputs": [],
   "source": [
    "#Type your code here"
   ]
  },
  {
   "cell_type": "markdown",
   "metadata": {
    "id": "ZRsOdm4uEgAW"
   },
   "source": [
    "## **e. Analisis Hasil Evaluasi Model Klasifikasi**"
   ]
  },
  {
   "cell_type": "markdown",
   "metadata": {
    "id": "Hm3BhSi6N4_l"
   },
   "source": [
    "Berikut adalah **rekomendasi** tahapannya.\n",
    "1. Bandingkan hasil evaluasi sebelum dan setelah tuning (jika dilakukan).\n",
    "2. Identifikasi kelemahan model, seperti:\n",
    "  - Precision atau Recall rendah untuk kelas tertentu.\n",
    "  - Apakah model mengalami overfitting atau underfitting?\n",
    "3. Berikan rekomendasi tindakan lanjutan, seperti mengumpulkan data tambahan atau mencoba algoritma lain jika hasil belum memuaskan."
   ]
  },
  {
   "cell_type": "markdown",
   "metadata": {
    "id": "Hm3BhSi6N4_l"
   },
   "source": [
    "1. Perbandingan Hasil Evaluasi Model\n",
    "Model yang dievaluasi:\n",
    "\n",
    "Random Forest\n",
    "\n",
    "Logistic Regression\n",
    "\n",
    "Hasil Evaluasi:\n",
    "Model\t             Akurasi\tF1-Score\tPrecision\tRecall\n",
    "Random Forest\t        1.00\t1.00\t        1.00\t1.00\n",
    "Logistic Regression\t    0.95\t0.94\t        0.95\t0.95\n",
    "\n",
    "2. Identifikasi Kelemahan Model\n",
    "- Random Forest\n",
    "\n",
    "Akurasi 100% menunjukkan kemungkinan besar terjadi overfitting.\n",
    "Model ini mungkin terlalu menyesuaikan diri dengan data latih dan tidak akan bekerja dengan baik pada data baru yang belum pernah dilihat sebelumnya.\n",
    "\n",
    "Meskipun precision dan recall juga tinggi, hal ini tidak selalu berarti model bagus dalam kasus nyata karena bisa jadi terlalu spesifik terhadap data yang dilatih.\n",
    "\n",
    "- Logistic Regression\n",
    "\n",
    "Akurasi lebih rendah dibandingkan Random Forest, yaitu 95%.\n",
    "Namun, ini mungkin lebih realistis karena tidak mengalami overfitting seperti Random Forest.\n",
    "\n",
    "Warning tentang iterasi maksimum tercapai menunjukkan bahwa model mengalami kesulitan untuk konvergen.\n",
    "Ini bisa disebabkan oleh:\n",
    "\n",
    "- Data yang belum di-normalisasi.\n",
    "\n",
    "Kompleksitas tinggi sehingga model memerlukan iterasi lebih banyak.\n",
    "\n",
    "Perlu mencoba solver lain atau menambah max_iter.\n",
    "\n",
    "- Apakah Model Mengalami Overfitting atau Underfitting?\n",
    "Random Forest → Overfitting\n",
    "\n",
    "Skor evaluasi sempurna (100%) menandakan model ini kemungkinan terlalu \"hapal\" data latih.\n",
    "\n",
    "Jika diuji dengan data baru, kemungkinan besar performanya akan turun.\n",
    "\n",
    "Logistic Regression → Tidak Mengalami Overfitting, tapi bisa lebih baik\n",
    "\n",
    "Akurasi 95% masih cukup baik, tetapi bisa ditingkatkan dengan tuning lebih lanjut.\n",
    "\n",
    "Bisa mengalami underfitting jika data memiliki hubungan non-linear yang kuat.\n",
    "\n",
    "3. Rekomendasi Tindakan Lanjutan\n",
    "   \n",
    "- Mengatasi Overfitting pada Random Forest:\n",
    "\n",
    "Kurangi jumlah n_estimators atau gunakan pruning untuk membatasi kedalaman pohon keputusan.\n",
    "\n",
    "Tambahkan regularisasi dengan max_depth dan min_samples_split.\n",
    "\n",
    "Gunakan lebih banyak data atau lakukan cross-validation untuk menghindari overfitting.\n",
    "\n",
    "- Meningkatkan Performa Logistic Regression:\n",
    "\n",
    "Lakukan normalisasi data agar model lebih mudah dikonvergenkan.\n",
    "\n",
    "Tingkatkan jumlah iterasi max_iter=500 agar model memiliki waktu lebih lama untuk konvergen.\n",
    "\n",
    "Coba solver lain seperti saga atau newton-cg untuk melihat perbedaannya.\n",
    "\n",
    "- Jika Precision atau Recall Rendah pada Kelas Tertentu:\n",
    "\n",
    "Gunakan SMOTE untuk menangani ketidakseimbangan kelas.\n",
    "\n",
    "Ubah threshold prediksi menggunakan predict_proba().\n",
    "\n",
    "- Alternatif Model:\n",
    "\n",
    "Coba algoritma lain seperti XGBoost atau SVM jika ingin meningkatkan akurasi lebih lanjut.\n",
    "\n",
    "Gunakan PCA atau feature selection untuk mengurangi kompleksitas model dan mempercepat konvergensi."
   ]
  }
 ],
 "metadata": {
  "colab": {
   "provenance": []
  },
  "kernelspec": {
   "display_name": "Python 3 (ipykernel)",
   "language": "python",
   "name": "python3"
  },
  "language_info": {
   "codemirror_mode": {
    "name": "ipython",
    "version": 3
   },
   "file_extension": ".py",
   "mimetype": "text/x-python",
   "name": "python",
   "nbconvert_exporter": "python",
   "pygments_lexer": "ipython3",
   "version": "3.13.2"
  }
 },
 "nbformat": 4,
 "nbformat_minor": 4
}
